{
 "cells": [
  {
   "cell_type": "code",
   "execution_count": 2,
   "metadata": {},
   "outputs": [
    {
     "name": "stderr",
     "output_type": "stream",
     "text": [
      "Using TensorFlow backend.\n"
     ]
    }
   ],
   "source": [
    "from glob import glob\n",
    "from keras import preprocessing \n"
   ]
  },
  {
   "cell_type": "code",
   "execution_count": null,
   "metadata": {},
   "outputs": [],
   "source": [
    "# load the audio files\n",
    "\n",
    "def Load_Audio_Files(folder_name):\n",
    "    audio_files = []\n",
    "    for audio_file_path in glob('{folder_name}/*.*'.format()):\n",
    "        if audio_file_path.endswith('.wav’') or audio_file_path.endswith('.mp3’')\n",
    "        \n",
    "        # this line is for image, I will find how to work with audio\n",
    "            audio = preprocessing.image.load_img(image_path, target_size = (width, height))\n",
    "            x = preprocessing.image.img_to_array(image)\n",
    "            audio_files.append(x)\n",
    "        return audio_files\n",
    "    \n",
    "    "
   ]
  }
 ],
 "metadata": {
  "kernelspec": {
   "display_name": "Python 3",
   "language": "python",
   "name": "python3"
  },
  "language_info": {
   "codemirror_mode": {
    "name": "ipython",
    "version": 3
   },
   "file_extension": ".py",
   "mimetype": "text/x-python",
   "name": "python",
   "nbconvert_exporter": "python",
   "pygments_lexer": "ipython3",
   "version": "3.7.4"
  }
 },
 "nbformat": 4,
 "nbformat_minor": 2
}
