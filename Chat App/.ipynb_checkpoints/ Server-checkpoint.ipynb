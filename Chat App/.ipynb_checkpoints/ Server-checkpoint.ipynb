{
 "cells": [
  {
   "cell_type": "code",
   "execution_count": 1,
   "metadata": {},
   "outputs": [],
   "source": [
    "import socket\n",
    "from threading import Thread\n",
    "\n",
    "ss = socket.socket()\n",
    "ss.bind((\"\", 2000))\n",
    "ss.listen()\n",
    "clients = {}\n"
   ]
  },
  {
   "cell_type": "code",
   "execution_count": 2,
   "metadata": {},
   "outputs": [],
   "source": [
    "def client_task (client_name, client_conn, client_addr):\n",
    "    while True:\n",
    "        data = client_conn.recv(1000)\n",
    "        message = client_name + \": \" + data.decode()\n",
    "        for client in clients:\n",
    "            if client != client_name:\n",
    "                clients[client].sendall(message.encode())"
   ]
  },
  {
   "cell_type": "code",
   "execution_count": null,
   "metadata": {},
   "outputs": [
    {
     "name": "stdout",
     "output_type": "stream",
     "text": [
      "Got connection from client at addres  ('127.0.0.1', 55430)\n",
      "Got connection from client at addres  ('127.0.0.1', 55510)\n",
      "Got connection from client at addres  ('127.0.0.1', 55566)\n",
      "Got connection from client at addres  ('127.0.0.1', 55620)\n"
     ]
    }
   ],
   "source": [
    "while True:\n",
    "    conn, addr = ss.accept()\n",
    "    print(\"Got connection from client at addres \", addr)\n",
    "    name = conn.recv(1000)\n",
    "    clients[name.decode()] = conn\n",
    "    t = Thread(target = client_task, args = (name.decode(),conn,addr))\n",
    "    t.start()"
   ]
  },
  {
   "cell_type": "code",
   "execution_count": null,
   "metadata": {},
   "outputs": [],
   "source": []
  }
 ],
 "metadata": {
  "kernelspec": {
   "display_name": "Python 3",
   "language": "python",
   "name": "python3"
  },
  "language_info": {
   "codemirror_mode": {
    "name": "ipython",
    "version": 3
   },
   "file_extension": ".py",
   "mimetype": "text/x-python",
   "name": "python",
   "nbconvert_exporter": "python",
   "pygments_lexer": "ipython3",
   "version": "3.7.4"
  }
 },
 "nbformat": 4,
 "nbformat_minor": 2
}
