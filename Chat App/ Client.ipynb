{
 "cells": [
  {
   "cell_type": "code",
   "execution_count": null,
   "metadata": {},
   "outputs": [
    {
     "name": "stdout",
     "output_type": "stream",
     "text": [
      "Enter your name Lilian\n"
     ]
    }
   ],
   "source": [
    "import socket\n",
    "from threading import Thread\n",
    "client = socket.socket()\n",
    "port = 2000\n",
    "client.connect(('localhost', port) )\n",
    "\n",
    "name = input('Enter your name ')\n",
    "client.sendall(name.encode())\n",
    "\n",
    "def receive_data():\n",
    "    while True:\n",
    "        data = client.recv(1000)\n",
    "        print(data.decode())\n",
    "\n",
    "def send_data() :\n",
    "    while True:\n",
    "        user_input = input()\n",
    "        client.sendall(user_input.encode())\n",
    "        \n",
    "t = Thread(target=receive_data)\n",
    "t.start()\n",
    "send_data()"
   ]
  },
  {
   "cell_type": "code",
   "execution_count": null,
   "metadata": {},
   "outputs": [],
   "source": []
  }
 ],
 "metadata": {
  "kernelspec": {
   "display_name": "Python 3",
   "language": "python",
   "name": "python3"
  },
  "language_info": {
   "codemirror_mode": {
    "name": "ipython",
    "version": 3
   },
   "file_extension": ".py",
   "mimetype": "text/x-python",
   "name": "python",
   "nbconvert_exporter": "python",
   "pygments_lexer": "ipython3",
   "version": "3.7.4"
  }
 },
 "nbformat": 4,
 "nbformat_minor": 2
}
