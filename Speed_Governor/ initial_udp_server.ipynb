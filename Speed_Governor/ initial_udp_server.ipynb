{
 "cells": [
  {
   "cell_type": "code",
   "execution_count": null,
   "metadata": {},
   "outputs": [],
   "source": [
    "import socket\n",
    "\n",
    " \n",
    "\n",
    "msgFromClient       = \"Hello UDP Server, can I Connect to you?\"\n",
    "\n",
    "bytesToSend         = str.encode(msgFromClient)\n",
    "\n",
    "serverAddressPort   = (\"41.89.227.168\",  1025)\n",
    "\n",
    "bufferSize          = 4096\n",
    "\n",
    " \n",
    "\n",
    "# Create a UDP socket at client side\n",
    "\n",
    "UDPClientSocket = socket.socket(family=socket.AF_INET, type=socket.SOCK_DGRAM)\n",
    "\n",
    "# Send to server using created UDP socket\n",
    "\n",
    "UDPClientSocket.sendto(bytesToSend, serverAddressPort)\n",
    "\n",
    " \n",
    "msgFromServer = UDPClientSocket.recvfrom(bufferSize)\n",
    "\n",
    " \n",
    "\n",
    "msg = \"Message from Server {}\".format(msgFromServer[0])\n",
    "\n",
    "print(msg)  \n",
    "    "
   ]
  },
  {
   "cell_type": "code",
   "execution_count": null,
   "metadata": {},
   "outputs": [],
   "source": []
  }
 ],
 "metadata": {
  "kernelspec": {
   "display_name": "Python 3",
   "language": "python",
   "name": "python3"
  },
  "language_info": {
   "codemirror_mode": {
    "name": "ipython",
    "version": 3
   },
   "file_extension": ".py",
   "mimetype": "text/x-python",
   "name": "python",
   "nbconvert_exporter": "python",
   "pygments_lexer": "ipython3",
   "version": "3.8.3"
  }
 },
 "nbformat": 4,
 "nbformat_minor": 4
}
