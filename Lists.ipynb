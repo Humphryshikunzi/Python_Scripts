{
 "cells": [
  {
   "cell_type": "markdown",
   "metadata": {},
   "source": [
    "### Lists"
   ]
  },
  {
   "cell_type": "code",
   "execution_count": 1,
   "metadata": {},
   "outputs": [
    {
     "name": "stdout",
     "output_type": "stream",
     "text": [
      "[4, 6, 8, 9, 14, 74]\n"
     ]
    }
   ],
   "source": [
    "lst = [4, 6, 8, 9, 14, 74]\n",
    "print(lst)"
   ]
  },
  {
   "cell_type": "code",
   "execution_count": 2,
   "metadata": {},
   "outputs": [
    {
     "name": "stdout",
     "output_type": "stream",
     "text": [
      "4\n",
      "6\n",
      "8\n",
      "9\n",
      "14\n",
      "74\n"
     ]
    }
   ],
   "source": [
    "# Print iteration, all\n",
    "for i in lst:\n",
    "    print(i)"
   ]
  },
  {
   "cell_type": "code",
   "execution_count": 4,
   "metadata": {},
   "outputs": [
    {
     "name": "stdout",
     "output_type": "stream",
     "text": [
      "2\n",
      "3\n",
      "4\n",
      "5\n"
     ]
    }
   ],
   "source": [
    "# Print iteration, from a start point\n",
    "for e in range(2, len(lst)):\n",
    "    print(e)"
   ]
  },
  {
   "cell_type": "code",
   "execution_count": 5,
   "metadata": {},
   "outputs": [
    {
     "name": "stdout",
     "output_type": "stream",
     "text": [
      "[4, 6, 8, 9, 14, 74, 74]\n"
     ]
    }
   ],
   "source": [
    "# append an element to the list\n",
    "lst.append(74)\n",
    "print(lst)"
   ]
  },
  {
   "cell_type": "code",
   "execution_count": 6,
   "metadata": {},
   "outputs": [
    {
     "name": "stdout",
     "output_type": "stream",
     "text": [
      "[4, 6, 8, 9, 14, 74, 74, [4, 52, 6]]\n"
     ]
    }
   ],
   "source": [
    "# append a list to our list\n",
    "lst.append([4, 52, 6])\n",
    "print(lst)"
   ]
  },
  {
   "cell_type": "code",
   "execution_count": 7,
   "metadata": {},
   "outputs": [
    {
     "name": "stdout",
     "output_type": "stream",
     "text": [
      "[4, 6, 8, 9, 14, 74, 74, [4, 52, 6], 91, 17, 58]\n"
     ]
    }
   ],
   "source": [
    "# append more than one element to the list\n",
    "lst.extend([91, 17, 58])\n",
    "print(lst)"
   ]
  },
  {
   "cell_type": "code",
   "execution_count": 8,
   "metadata": {},
   "outputs": [
    {
     "name": "stdout",
     "output_type": "stream",
     "text": [
      "[4, 6, 20, 8, 9, 14, 74, 74, [4, 52, 6], 91, 17, 58]\n"
     ]
    }
   ],
   "source": [
    "# inserting at a specific index, e.g. insert 20 at index 2\n",
    "lst.insert(2, 20)\n",
    "print(lst)"
   ]
  },
  {
   "cell_type": "code",
   "execution_count": 9,
   "metadata": {},
   "outputs": [
    {
     "name": "stdout",
     "output_type": "stream",
     "text": [
      "[4, 6, 20, 8, 9, 14, 74, 74, [4, 52, 6], 91, 17]\n"
     ]
    }
   ],
   "source": [
    "#popping last element, 58\n",
    "lst.pop()\n",
    "print(lst)"
   ]
  },
  {
   "cell_type": "code",
   "execution_count": 11,
   "metadata": {},
   "outputs": [
    {
     "name": "stdout",
     "output_type": "stream",
     "text": [
      "[4, 6, 20, 8, 9, 14, 74, 91, 17]\n"
     ]
    }
   ],
   "source": [
    "# poppping element at an index\n",
    "lst.pop(-3)\n",
    "print(lst)"
   ]
  },
  {
   "cell_type": "code",
   "execution_count": 20,
   "metadata": {},
   "outputs": [
    {
     "name": "stdout",
     "output_type": "stream",
     "text": [
      "The sum of lst is 243 \n"
     ]
    }
   ],
   "source": [
    "# built in functions \n",
    "print('The sum of lst is {} '.format(sum(lst)))"
   ]
  },
  {
   "cell_type": "code",
   "execution_count": 24,
   "metadata": {},
   "outputs": [
    {
     "name": "stdout",
     "output_type": "stream",
     "text": [
      "The sorted list is [4, 6, 8, 9, 14, 17, 20, 74, 91]\n"
     ]
    }
   ],
   "source": [
    "# sorting\n",
    "lst.sort()\n",
    "print('The sorted list is {}'.format(lst))"
   ]
  },
  {
   "cell_type": "code",
   "execution_count": 25,
   "metadata": {},
   "outputs": [
    {
     "name": "stdout",
     "output_type": "stream",
     "text": [
      "The reversed list is [91, 74, 20, 17, 14, 9, 8, 6, 4]\n"
     ]
    }
   ],
   "source": [
    "lst.reverse()\n",
    "print('The reversed list is {}'.format(lst))"
   ]
  },
  {
   "cell_type": "code",
   "execution_count": 26,
   "metadata": {},
   "outputs": [
    {
     "name": "stdout",
     "output_type": "stream",
     "text": [
      "[8281, 5476, 400, 289, 196, 81, 64, 36, 16]\n"
     ]
    }
   ],
   "source": [
    "# list comprehension, performing a function onto the entire list\n",
    "square_lst = [e**2 for e in lst]\n",
    "print(square_lst)\n"
   ]
  },
  {
   "cell_type": "code",
   "execution_count": null,
   "metadata": {},
   "outputs": [],
   "source": []
  }
 ],
 "metadata": {
  "kernelspec": {
   "display_name": "Python 3",
   "language": "python",
   "name": "python3"
  },
  "language_info": {
   "codemirror_mode": {
    "name": "ipython",
    "version": 3
   },
   "file_extension": ".py",
   "mimetype": "text/x-python",
   "name": "python",
   "nbconvert_exporter": "python",
   "pygments_lexer": "ipython3",
   "version": "3.7.4"
  }
 },
 "nbformat": 4,
 "nbformat_minor": 2
}
