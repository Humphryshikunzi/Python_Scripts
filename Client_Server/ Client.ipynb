{
 "cells": [
  {
   "cell_type": "markdown",
   "metadata": {},
   "source": [
    "### Create a web Socket (An IP address and Port Number)\n",
    "### Connect the web socket to  Server\n",
    "### Communicate\n",
    "### Close the Web Socket\n"
   ]
  },
  {
   "cell_type": "code",
   "execution_count": 8,
   "metadata": {},
   "outputs": [
    {
     "name": "stdout",
     "output_type": "stream",
     "text": [
      "Connecting to port number 1234\n"
     ]
    }
   ],
   "source": [
    "# Create a socket\n",
    "\n",
    "import  socket\n",
    "client_socket = socket.socket()\n",
    "port = 1234\n",
    "print('Connecting to port number', port )\n",
    "client_socket.connect((\"localhost\", port))\n",
    "client_socket.sendall('Hi Server, its Humphry Again'.encode())\n",
    "data = client_socket.recv(1000)\n",
    "client_socket.close()"
   ]
  },
  {
   "cell_type": "code",
   "execution_count": null,
   "metadata": {},
   "outputs": [],
   "source": []
  },
  {
   "cell_type": "code",
   "execution_count": null,
   "metadata": {},
   "outputs": [],
   "source": []
  }
 ],
 "metadata": {
  "kernelspec": {
   "display_name": "Python 3",
   "language": "python",
   "name": "python3"
  },
  "language_info": {
   "codemirror_mode": {
    "name": "ipython",
    "version": 3
   },
   "file_extension": ".py",
   "mimetype": "text/x-python",
   "name": "python",
   "nbconvert_exporter": "python",
   "pygments_lexer": "ipython3",
   "version": "3.7.4"
  }
 },
 "nbformat": 4,
 "nbformat_minor": 2
}
