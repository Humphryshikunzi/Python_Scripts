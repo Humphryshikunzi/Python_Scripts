{
 "cells": [
  {
   "cell_type": "markdown",
   "metadata": {},
   "source": [
    "### Sever\n",
    "### Create a socket\n",
    "### Bind the Socket to a particular Port Number\n",
    "### Listen to Clients\n",
    "### The minute the client connects to the server, accept the connection for each of the clients separately\n",
    "### Communicate\n",
    "### Close all connection\n",
    "### Close the server"
   ]
  },
  {
   "cell_type": "code",
   "execution_count": 5,
   "metadata": {},
   "outputs": [
    {
     "name": "stdout",
     "output_type": "stream",
     "text": [
      "About to create a binding\n",
      "Listening for Clients\n",
      "Got client from request  ('127.0.0.1', 51067)\n",
      "The data is Hi Server, its Humphry Again\n"
     ]
    }
   ],
   "source": [
    "# Create server socket\n",
    "import socket \n",
    "server_socket = socket.socket()\n",
    "\n",
    "print('About to create a binding')\n",
    "server_socket.bind((\"\", 1234))\n",
    "\n",
    "print('Listening for Clients')\n",
    "server_socket.listen()\n",
    "\n",
    "\n",
    "conn,  addr = server_socket.accept()\n",
    "print('Got client from request ', addr)\n",
    "data = conn.recv(1000)\n",
    "print('The data is {}'.format(data.decode()))\n",
    "\n",
    "conn.close()\n",
    "server_socket.close()"
   ]
  },
  {
   "cell_type": "code",
   "execution_count": null,
   "metadata": {},
   "outputs": [],
   "source": []
  }
 ],
 "metadata": {
  "kernelspec": {
   "display_name": "Python 3",
   "language": "python",
   "name": "python3"
  },
  "language_info": {
   "codemirror_mode": {
    "name": "ipython",
    "version": 3
   },
   "file_extension": ".py",
   "mimetype": "text/x-python",
   "name": "python",
   "nbconvert_exporter": "python",
   "pygments_lexer": "ipython3",
   "version": "3.7.4"
  }
 },
 "nbformat": 4,
 "nbformat_minor": 2
}
