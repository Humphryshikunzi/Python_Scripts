{
 "cells": [
  {
   "cell_type": "code",
   "execution_count": null,
   "metadata": {},
   "outputs": [],
   "source": [
    "import socket\n",
    "from threading import Thread\n",
    "\n",
    "port = 15623\n",
    "client_socket = socket.socket()\n",
    "client_socket.connect(('41.89.227.168', port))\n",
    "print('Connected to server')\n",
    "\n",
    "\n",
    "def send_data():\n",
    "    while True:\n",
    "        request = input(\"What do you want to request from the server \")\n",
    "        client_socket.sendall(request.encode())\n",
    "    \n",
    "    \n",
    "def receive_data():\n",
    "    while True:\n",
    "        data = client_socket.recv(1000)\n",
    "        print('The request from the server is ', data.decode())\n",
    "    \n",
    "t1 = Thread(target=receive_data)\n",
    "t1.start()\n",
    "send_data()"
   ]
  }
 ],
 "metadata": {
  "kernelspec": {
   "display_name": "Python 3",
   "language": "python",
   "name": "python3"
  },
  "language_info": {
   "codemirror_mode": {
    "name": "ipython",
    "version": 3
   },
   "file_extension": ".py",
   "mimetype": "text/x-python",
   "name": "python",
   "nbconvert_exporter": "python",
   "pygments_lexer": "ipython3",
   "version": "3.8.3"
  }
 },
 "nbformat": 4,
 "nbformat_minor": 4
}
