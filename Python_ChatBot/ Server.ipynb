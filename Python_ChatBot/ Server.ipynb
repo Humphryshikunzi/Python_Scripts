{
 "cells": [
  {
   "cell_type": "code",
   "execution_count": null,
   "metadata": {},
   "outputs": [
    {
     "name": "stdout",
     "output_type": "stream",
     "text": [
      "The server is bound to port  15623\n",
      "The server is listening to Clients\n",
      "The server got a client from port ('127.0.0.1', 54031)\n",
      "The request from the client is  Hey Man\n"
     ]
    }
   ],
   "source": [
    "import socket\n",
    "from threading import Thread\n",
    "server_socket = socket.socket()\n",
    "\n",
    "port_number = 15623\n",
    "\n",
    "server_socket.bind(('', port_number ))\n",
    "print('The server is bound to port ', port_number)\n",
    "\n",
    "server_socket.listen()\n",
    "print('The server is listening to Clients')\n",
    "\n",
    "conn,addr = server_socket.accept()\n",
    "print('The server got a client from port', addr)\n",
    "\n",
    "\n",
    "def receive_data():\n",
    "    while True :\n",
    "        data = conn.recv(1000)\n",
    "        print('The request from the client is ', data.decode())\n",
    "\n",
    "def send_data() :\n",
    "    while True :\n",
    "        server_request = input(\"The server response \")\n",
    "        conn.sendall(server_request.encode())\n",
    "        \n",
    "t2 = Thread(target=receive_data)\n",
    "t2.start()\n",
    "send_data()"
   ]
  },
  {
   "cell_type": "code",
   "execution_count": null,
   "metadata": {},
   "outputs": [],
   "source": []
  }
 ],
 "metadata": {
  "kernelspec": {
   "display_name": "Python 3",
   "language": "python",
   "name": "python3"
  },
  "language_info": {
   "codemirror_mode": {
    "name": "ipython",
    "version": 3
   },
   "file_extension": ".py",
   "mimetype": "text/x-python",
   "name": "python",
   "nbconvert_exporter": "python",
   "pygments_lexer": "ipython3",
   "version": "3.7.4"
  }
 },
 "nbformat": 4,
 "nbformat_minor": 2
}
