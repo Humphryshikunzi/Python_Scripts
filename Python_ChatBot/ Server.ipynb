{
 "cells": [
  {
   "cell_type": "code",
   "execution_count": null,
   "metadata": {},
   "outputs": [
    {
     "name": "stdout",
     "output_type": "stream",
     "text": [
      "The server is bound to port  15623\n",
      "The server is listening to Clients\n",
      "The server got a client from port ('127.0.0.1', 64402)\n",
      "The request from the client is  I would want some data\n",
      "The server response I don't have that data\n"
     ]
    },
    {
     "name": "stderr",
     "output_type": "stream",
     "text": [
      "Exception in thread Thread-6:\n",
      "Traceback (most recent call last):\n",
      "  File \"C:\\Users\\humph\\Anaconda3\\lib\\threading.py\", line 932, in _bootstrap_inner\n",
      "    self.run()\n",
      "  File \"C:\\Users\\humph\\Anaconda3\\lib\\threading.py\", line 870, in run\n",
      "    self._target(*self._args, **self._kwargs)\n",
      "  File \"<ipython-input-1-31f521c0bf49>\", line 19, in receive_data\n",
      "ConnectionResetError: [WinError 10054] An existing connection was forcibly closed by the remote host\n"
     ]
    }
   ],
   "source": [
    "import socket\n",
    "from threading import Thread\n",
    "server_socket = socket.socket()\n",
    "\n",
    "port_number = 15623\n",
    "\n",
    "server_socket.bind(('', port_number ))\n",
    "print('The server is bound to port ', port_number)\n",
    "\n",
    "server_socket.listen()\n",
    "print('The server is listening to Clients')\n",
    "\n",
    "conn, addr = server_socket.accept()\n",
    "print('The server got a client from port', addr)\n",
    "\n",
    "\n",
    "def receive_data():\n",
    "    while True :\n",
    "        data = conn.recv(1000)\n",
    "        print('The request from the client is ', data.decode())\n",
    "\n",
    "def send_data() :\n",
    "    while True :\n",
    "        server_request = input(\"The server response \")\n",
    "        conn.sendall(server_request.encode())\n",
    "        \n",
    "t2 = Thread(target=receive_data)\n",
    "t2.start()\n",
    "send_data()"
   ]
  },
  {
   "cell_type": "code",
   "execution_count": null,
   "metadata": {},
   "outputs": [],
   "source": []
  }
 ],
 "metadata": {
  "kernelspec": {
   "display_name": "Python 3",
   "language": "python",
   "name": "python3"
  },
  "language_info": {
   "codemirror_mode": {
    "name": "ipython",
    "version": 3
   },
   "file_extension": ".py",
   "mimetype": "text/x-python",
   "name": "python",
   "nbconvert_exporter": "python",
   "pygments_lexer": "ipython3",
   "version": "3.8.3"
  }
 },
 "nbformat": 4,
 "nbformat_minor": 2
}
