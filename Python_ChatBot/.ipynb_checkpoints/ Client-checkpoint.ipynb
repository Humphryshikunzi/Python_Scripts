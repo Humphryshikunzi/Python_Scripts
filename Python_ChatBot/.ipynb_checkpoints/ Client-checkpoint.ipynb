{
 "cells": [
  {
   "cell_type": "code",
   "execution_count": null,
   "metadata": {},
   "outputs": [
    {
     "name": "stdout",
     "output_type": "stream",
     "text": [
      "Connected to server\n",
      "What do you want to request from the server What is the name of the Server\n",
      "The request from the server is  Server2\n",
      "What do you want to request from the server Where is the Sever\n",
      "The request from the server is  Hosted in West Europe\n"
     ]
    },
    {
     "name": "stderr",
     "output_type": "stream",
     "text": [
      "Exception in thread Thread-6:\n",
      "Traceback (most recent call last):\n",
      "  File \"C:\\Users\\user\\Anaconda3\\lib\\threading.py\", line 926, in _bootstrap_inner\n",
      "    self.run()\n",
      "  File \"C:\\Users\\user\\Anaconda3\\lib\\threading.py\", line 870, in run\n",
      "    self._target(*self._args, **self._kwargs)\n",
      "  File \"<ipython-input-1-fb180f3b54bb>\", line 18, in receive_data\n",
      "    data = client_socket.recv(1000)\n",
      "ConnectionResetError: [WinError 10054] An existing connection was forcibly closed by the remote host\n",
      "\n"
     ]
    }
   ],
   "source": [
    "import socket\n",
    "from threading import Thread\n",
    "\n",
    "port = 15623\n",
    "client_socket = socket.socket()\n",
    "client_socket.connect(('localhost', port))\n",
    "print('Connected to server')\n",
    "\n",
    "\n",
    "def send_data():\n",
    "    while True:\n",
    "        request = input(\"What do you want to request from the server \")\n",
    "        client_socket.sendall(request.encode())\n",
    "    \n",
    "    \n",
    "def receive_data():\n",
    "    while True:\n",
    "        data = client_socket.recv(1000)\n",
    "        print('The request from the server is ', data.decode())\n",
    "    \n",
    "t1 = Thread(target=receive_data)\n",
    "t1.start()\n",
    "send_data()\n",
    "    "
   ]
  },
  {
   "cell_type": "code",
   "execution_count": null,
   "metadata": {},
   "outputs": [],
   "source": []
  }
 ],
 "metadata": {
  "kernelspec": {
   "display_name": "Python 3",
   "language": "python",
   "name": "python3"
  },
  "language_info": {
   "codemirror_mode": {
    "name": "ipython",
    "version": 3
   },
   "file_extension": ".py",
   "mimetype": "text/x-python",
   "name": "python",
   "nbconvert_exporter": "python",
   "pygments_lexer": "ipython3",
   "version": "3.7.4"
  }
 },
 "nbformat": 4,
 "nbformat_minor": 2
}
