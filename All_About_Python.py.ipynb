{
 "cells": [
  {
   "cell_type": "code",
   "execution_count": 1,
   "metadata": {},
   "outputs": [],
   "source": [
    "# Install python, add it to environmrnt variable and verify its installed by opening cmd and typing python --version\n",
    "\n",
    "#For installing any package in python, use pip, the official way its pip install <package name>. Make sure pip is added to\n",
    "# environment variable"
   ]
  },
  {
   "cell_type": "markdown",
   "metadata": {},
   "source": [
    "### Variables in python"
   ]
  },
  {
   "cell_type": "code",
   "execution_count": 10,
   "metadata": {},
   "outputs": [
    {
     "name": "stdout",
     "output_type": "stream",
     "text": [
      "a is 10\n",
      "type a is <class 'int'>\n",
      "\n",
      "b is 100000000004575555\n",
      "type b is <class 'int'>\n",
      "\n",
      "pi is 3.142\n",
      "type of pi is <class 'float'>\n",
      "\n",
      "c is A\n",
      "type c is <class 'str'>\n",
      "\n",
      "greeting is Hello Kenya, Jambo Africa\n",
      "type of greeting is <class 'str'>\n",
      "\n",
      "q is True\n",
      "type q is <class 'bool'>\n",
      "\n",
      "x is None\n",
      "type x is <class 'NoneType'>\n",
      "\n"
     ]
    }
   ],
   "source": [
    "# just type the variable name on the left and assign a value on it on the right\n",
    "# integer \n",
    "\n",
    "a = 10\n",
    "print('a is {}'.format(a))\n",
    "print('type a is {}\\n'.format(type(a)))\n",
    "\n",
    "b = 100000000004575555\n",
    "print('b is {}'.format(b))\n",
    "print('type b is {}\\n'.format(type(b)))\n",
    "\n",
    "\n",
    "# floating type\n",
    "pi = 3.142\n",
    "print('pi is {}'.format(pi))\n",
    "print('type of pi is {}\\n'.format(type(pi)))\n",
    "\n",
    "# string \n",
    "# unlike other programming languages like C#, python has no char\n",
    "\n",
    "c = 'A'\n",
    "print('c is {}'.format(c))\n",
    "print('type c is {}\\n'.format(type(c)))\n",
    "\n",
    "greeting = 'Hello Kenya, Jambo Africa'\n",
    "print('greeting is {}'.format(greeting))\n",
    "print('type of greeting is {}\\n'.format(type(greeting)))\n",
    "\n",
    "# Boolean\n",
    "\n",
    "q = True\n",
    "print('q is {}'.format(q))\n",
    "print('type q is {}\\n'.format(type(q)))\n",
    "\n",
    "x = None\n",
    "print('x is {}'.format(x))\n",
    "print('type x is {}\\n'.format(type(x)))"
   ]
  },
  {
   "cell_type": "markdown",
   "metadata": {},
   "source": [
    "## Rules for variables in Python\n",
    "### Key words are not vaid varible names\n",
    "### Vaiable names starts with a letter or underscore"
   ]
  },
  {
   "cell_type": "code",
   "execution_count": 11,
   "metadata": {},
   "outputs": [
    {
     "name": "stdout",
     "output_type": "stream",
     "text": [
      "['False', 'None', 'True', 'and', 'as', 'assert', 'async', 'await', 'break', 'class', 'continue', 'def', 'del', 'elif', 'else', 'except', 'finally', 'for', 'from', 'global', 'if', 'import', 'in', 'is', 'lambda', 'nonlocal', 'not', 'or', 'pass', 'raise', 'return', 'try', 'while', 'with', 'yield']\n"
     ]
    }
   ],
   "source": [
    "# print keywords\n",
    "import keyword\n",
    "print(keyword.kwlist)"
   ]
  },
  {
   "cell_type": "code",
   "execution_count": 14,
   "metadata": {},
   "outputs": [
    {
     "name": "stdout",
     "output_type": "stream",
     "text": [
      "The 3 numbers are\n",
      "4 7 9\n",
      "Number_2 alone is 7\n"
     ]
    }
   ],
   "source": [
    "# Assigning more than one value at the same time\n",
    "\n",
    "number_1, number_2, number_3 = 4, 7, 9\n",
    "print('The 3 numbers are')\n",
    "print(number_1, number_2, number_3)\n",
    "print('Number_2 alone is {}'.format(number_2))\n"
   ]
  },
  {
   "cell_type": "markdown",
   "metadata": {},
   "source": [
    "### Using Pass, to avoid raising error to function that does not do a thing"
   ]
  },
  {
   "cell_type": "code",
   "execution_count": 16,
   "metadata": {},
   "outputs": [],
   "source": [
    "def Do_Nothig():\n",
    "    pass"
   ]
  },
  {
   "cell_type": "markdown",
   "metadata": {},
   "source": [
    "### Tuples"
   ]
  },
  {
   "cell_type": "code",
   "execution_count": 69,
   "metadata": {},
   "outputs": [
    {
     "name": "stdout",
     "output_type": "stream",
     "text": [
      "(1, 2, 8)\n",
      "('hello Kenya', 4, True)\n",
      "tuple two index 1  is 4\n",
      "signature for tuple with one element\n"
     ]
    }
   ],
   "source": [
    "# An ordered collection of n values of any types \n",
    "# Immutable, but indexable, hashable => unique values\n",
    "\n",
    "tuple_one = (1, 2, 8)\n",
    "tuple_two = ('hello Kenya', 4, True)\n",
    "print(tuple_one)\n",
    "print(tuple_two)\n",
    "print('tuple two index 1  is {}'.format(tuple_two[1]))\n",
    "\n",
    "\n",
    "# the operations applied to lists are also applied to tuples\n",
    "\n",
    "print('signature for tuple with one element')\n",
    "ip_address = ('124.41.100.00')\n",
    "\n",
    "# or without rounded brackets\n",
    "ip_address = '124.41.100.00'\n",
    "              \n",
    "# or use tuple syntax\n",
    "ip_address = tuple(['124.41.100.00'])"
   ]
  },
  {
   "cell_type": "markdown",
   "metadata": {},
   "source": [
    "### List\n"
   ]
  },
  {
   "cell_type": "code",
   "execution_count": 84,
   "metadata": {},
   "outputs": [
    {
     "name": "stdout",
     "output_type": "stream",
     "text": [
      "[1, True, 'Hello', 45, None]\n",
      "Index 3 is 45\n",
      "\n",
      "nested list\n",
      "\n",
      "[45, 3]\n",
      "3\n",
      "reasign lsit values \n",
      "\n",
      "8\n",
      "add values to list\n",
      "\n",
      "8\n",
      "[45, 8, 4]\n",
      "insert values to list at specific index\n",
      "\n",
      "[1, 7, [7, 8, [45, 8, 4], 1]]\n",
      "[8, 1, 7, [7, 8, [45, 8, 4], 1]]\n",
      "remove first occurrence of an element from list without getting the index\n",
      "\n",
      "[8, 7, [7, 8, [45, 8, 4], 1]]\n",
      "get index of first occurrence of an element\n",
      "\n",
      "1\n",
      "get count for total elements in list\n",
      "3\n",
      "get count for each element isa list\n",
      "1\n",
      "reverse the list\n",
      "[[7, 8, [45, 8, 4], 1], 7, 8]\n",
      "reversed list\n",
      "[8, 7, [7, 8, [45, 8, 4], 1]]\n",
      "remove last element from list and return the index\n",
      "The index of the removed elemet is 8\n",
      "printing elements in the nested list\n",
      "[7, 8, [45, 8, 4], 1]\n",
      "7\n",
      "first three elements\n",
      "[[7, 8, [45, 8, 4], 1]]\n"
     ]
    }
   ],
   "source": [
    "# An ordered collection of n values\n",
    "# mutable, not hashable, indexable\n",
    "\n",
    "list_of_values = [1, True, 'Hello', 45, None]\n",
    "print(list_of_values)\n",
    "\n",
    "print('Index 3 is {}\\n'.format(list_of_values[3]))\n",
    "\n",
    "\n",
    "## list in list (nested list)\n",
    "\n",
    "print('nested list\\n')\n",
    "nested_list = [1, 7, [7, 8, [45, 3], 1]]\n",
    "print(nested_list[2][2])\n",
    "print(nested_list[2][2][1])\n",
    "\n",
    "\n",
    "print('reasign lsit values \\n')\n",
    "# Reassign values in a list\n",
    "nested_list[2][2][1] = 8\n",
    "print(nested_list[2][2][1])\n",
    "\n",
    "\n",
    "print('add values to list\\n')\n",
    "# add values to list, using append, returns none\n",
    "nested_list[2][2].append(4)\n",
    "print(nested_list[2][2][1])\n",
    "print(nested_list[2][2])\n",
    "\n",
    "\n",
    "# insert values to list at specific index\n",
    "print('insert values to list at specific index\\n')\n",
    "print(nested_list)\n",
    "nested_list.insert(0, 8)\n",
    "print(nested_list)\n",
    "\n",
    "# remove first occurrence of an element from list without getting the index\n",
    "print('remove first occurrence of an element from list without getting the index\\n')\n",
    "nested_list.remove(1)\n",
    "print(nested_list)\n",
    "\n",
    "#get index of first occurrence of an element\\n\n",
    "print('get index of first occurrence of an element\\n')\n",
    "print(nested_list.index(7))\n",
    "\n",
    "\n",
    "#print('get count for total elements in list')\n",
    "print('get count for total elements in list')\n",
    "print(len(nested_list))\n",
    "\n",
    "\n",
    "# print('get count for each element isa list')\n",
    "print('get count for each element isa list')\n",
    "print(nested_list.count(8))\n",
    "\n",
    "# print('reverse the list')\n",
    "print('reverse the list')\n",
    "nested_list.reverse()\n",
    "print(nested_list)\n",
    "\n",
    "# or \n",
    "# make sure you assign to another variable in this step\n",
    "print('reversed list')\n",
    "print(nested_list[::-1])\n",
    "\n",
    "# remove last element from list and return the index\n",
    "print('remove last element from list and return the index')\n",
    "index = nested_list.pop()\n",
    "print('The index of the removed elemet is {}'.format(index))\n",
    "\n",
    "# iterate through list and write the values\n",
    "print('printing elements in the nested list')\n",
    "for item in nested_list:\n",
    "    print(item)\n",
    "    \n",
    "    \n",
    "# using colon to show start of elements\n",
    "print('first three elements')\n",
    "print(nested_list[:1])"
   ]
  },
  {
   "cell_type": "markdown",
   "metadata": {},
   "source": [
    "### Set"
   ]
  },
  {
   "cell_type": "code",
   "execution_count": 82,
   "metadata": {},
   "outputs": [
    {
     "name": "stdout",
     "output_type": "stream",
     "text": [
      "{4, 6, 7}\n",
      "<class 'set'>\n",
      "frozenset({'y', 'r', 'p', 'h', 'u', 'm'})\n",
      "frozenset({'Mombasa', 'Kisumu', 'Nairobi'})\n"
     ]
    }
   ],
   "source": [
    "# An Unordered collection of unique values\n",
    "# Hashed\n",
    "# There are two types, the first with set keyword, can be changed  i.e items can be added to it,,the second is frozenset\n",
    "set_one = {4, 4, 7, 6, 6, 6, 7}\n",
    "print(set_one)\n",
    "\n",
    "# A list can be cast into a set\n",
    "my_list = [45, 52, 69, 74]\n",
    "my_set = set(my_list)\n",
    "print(type(my_set))\n",
    "my_set\n",
    "\n",
    "# frozen set\n",
    "\n",
    "name = frozenset('humphry')\n",
    "print(name)\n",
    "\n",
    "cities = frozenset(['Nairobi', 'Kisumu', 'Mombasa'])\n",
    "print(cities)\n",
    "    \n"
   ]
  },
  {
   "cell_type": "markdown",
   "metadata": {},
   "source": [
    "### Dictionary\n"
   ]
  },
  {
   "cell_type": "code",
   "execution_count": 72,
   "metadata": {},
   "outputs": [
    {
     "name": "stdout",
     "output_type": "stream",
     "text": [
      "{1: 'Humpry', 2: 'Shikunzi', 3: 'Trizer'}\n",
      "{'names': ['Humphry', 'Shikunzi', 'Phostine'], 'marks': {'english': 47, 'math': 87, 'science': 80}}\n",
      "['Humphry', 'Shikunzi', 'Phostine']\n",
      "47\n",
      "the keys are\n",
      "1\n",
      "2\n",
      "3\n",
      "the values are\n",
      "Humpry\n",
      "Shikunzi\n",
      "Trizer\n"
     ]
    }
   ],
   "source": [
    "# An unordered collection of unique key value pairs\n",
    "\n",
    "dictionary_one = {1 : 'Humpry', 2: 'Shikunzi', 3: 'Trizer'}\n",
    "dictionary_two = {'names' : ['Humphry','Shikunzi', 'Phostine'], 'marks' : {'english': 47, 'math' : 87, 'science' : 80}}\n",
    "\n",
    "print(dictionary_one)\n",
    "print(dictionary_two)\n",
    "print(dictionary_two[\"names\"])\n",
    "print(dictionary_two['marks']['english'])\n",
    "\n",
    "# iterate over dictionary and print all keys and values\n",
    "print('the keys are')\n",
    "for key in dictionary_one.keys():\n",
    "    print(key)\n",
    " \n",
    "\n",
    "print('the values are')\n",
    "for value in dictionary_one.values():\n",
    "    print(value)\n",
    "    "
   ]
  },
  {
   "cell_type": "markdown",
   "metadata": {},
   "source": [
    "### Check datatype with isinstance"
   ]
  },
  {
   "cell_type": "code",
   "execution_count": 35,
   "metadata": {},
   "outputs": [
    {
     "name": "stdout",
     "output_type": "stream",
     "text": [
      "x is an integer\n",
      "\n",
      "No string found\n"
     ]
    }
   ],
   "source": [
    "x = 41\n",
    "greet = 'Jambo Africa'\n",
    "\n",
    "if isinstance(x, int):\n",
    "    print('x is an integer\\n')\n",
    "else:\n",
    "    print('x is not integer\\n')\n",
    "    \n",
    "    \n",
    "    \n",
    "if isinstance(greet, int):\n",
    "    print('string found')\n",
    "else:\n",
    "    print('No string found')"
   ]
  },
  {
   "cell_type": "markdown",
   "metadata": {},
   "source": [
    "### Data type conversion"
   ]
  },
  {
   "cell_type": "code",
   "execution_count": 42,
   "metadata": {},
   "outputs": [
    {
     "name": "stdout",
     "output_type": "stream",
     "text": [
      "datatype is <class 'float'> and value is 1237.8547\n",
      "datatype is <class 'int'> and value is 1237\n"
     ]
    }
   ],
   "source": [
    "value_str = '1237.8547'\n",
    "print('datatype is {} and value is {}'.format(type(float(value_str)), float(value_str)))\n",
    "\n",
    "# here, we must first convert it to float then integer, no direct way\n",
    "print('datatype is {} and value is {}'.format(type(int(float(value_str))), int(float(value_str))))\n"
   ]
  },
  {
   "cell_type": "code",
   "execution_count": 3,
   "metadata": {},
   "outputs": [
    {
     "name": "stdout",
     "output_type": "stream",
     "text": [
      "<class 'int'>\n"
     ]
    }
   ],
   "source": [
    "str_value = '456'\n",
    "print(type(int(str_value)))"
   ]
  },
  {
   "cell_type": "code",
   "execution_count": 45,
   "metadata": {},
   "outputs": [
    {
     "name": "stdout",
     "output_type": "stream",
     "text": [
      "datatype is <class 'list'> and values are ['H', 'e', 'l', 'l', 'o', ' ', 'K', 'e', 'n', 'y', 'a']\n",
      "datatype is <class 'tuple'> and values are ('H', 'e', 'l', 'l', 'o', ' ', 'K', 'e', 'n', 'y', 'a')\n",
      "datatype is <class 'set'> and values are {'o', ' ', 'e', 'l', 'y', 'n', 'a', 'H', 'K'}\n"
     ]
    }
   ],
   "source": [
    "## Convery sequence to collection\n",
    "\n",
    "greet = 'Hello Kenya'\n",
    "print('datatype is {} and values are {}'.format(type(list(greet)), list(greet)))\n",
    "print('datatype is {} and values are {}'.format(type(tuple(greet)), tuple(greet)))\n",
    "print('datatype is {} and values are {}'.format(type(set(greet)), set(greet)))\n"
   ]
  },
  {
   "cell_type": "markdown",
   "metadata": {},
   "source": [
    "### User inputs"
   ]
  },
  {
   "cell_type": "code",
   "execution_count": 75,
   "metadata": {},
   "outputs": [
    {
     "name": "stdout",
     "output_type": "stream",
     "text": [
      "Enter your name to join the meeting Humphry\n",
      "Hello Humphry\n"
     ]
    }
   ],
   "source": [
    "# Always make sure that you use try catch when getting values from the user\n",
    "name = input('Enter your name to join the meeting ')\n",
    "print('Hello ' + name)\n",
    "\n",
    "# All values from the user are considred as string, they should therefore be cast to respective data types before use"
   ]
  },
  {
   "cell_type": "markdown",
   "metadata": {},
   "source": [
    "### BuiltIns"
   ]
  },
  {
   "cell_type": "code",
   "execution_count": 76,
   "metadata": {},
   "outputs": [
    {
     "data": {
      "text/plain": [
       "['__doc__',\n",
       " '__loader__',\n",
       " '__name__',\n",
       " '__package__',\n",
       " '__spec__',\n",
       " 'acos',\n",
       " 'acosh',\n",
       " 'asin',\n",
       " 'asinh',\n",
       " 'atan',\n",
       " 'atan2',\n",
       " 'atanh',\n",
       " 'ceil',\n",
       " 'copysign',\n",
       " 'cos',\n",
       " 'cosh',\n",
       " 'degrees',\n",
       " 'e',\n",
       " 'erf',\n",
       " 'erfc',\n",
       " 'exp',\n",
       " 'expm1',\n",
       " 'fabs',\n",
       " 'factorial',\n",
       " 'floor',\n",
       " 'fmod',\n",
       " 'frexp',\n",
       " 'fsum',\n",
       " 'gamma',\n",
       " 'gcd',\n",
       " 'hypot',\n",
       " 'inf',\n",
       " 'isclose',\n",
       " 'isfinite',\n",
       " 'isinf',\n",
       " 'isnan',\n",
       " 'ldexp',\n",
       " 'lgamma',\n",
       " 'log',\n",
       " 'log10',\n",
       " 'log1p',\n",
       " 'log2',\n",
       " 'modf',\n",
       " 'nan',\n",
       " 'pi',\n",
       " 'pow',\n",
       " 'radians',\n",
       " 'remainder',\n",
       " 'sin',\n",
       " 'sinh',\n",
       " 'sqrt',\n",
       " 'tan',\n",
       " 'tanh',\n",
       " 'tau',\n",
       " 'trunc']"
      ]
     },
     "execution_count": 76,
     "metadata": {},
     "output_type": "execute_result"
    }
   ],
   "source": [
    "# A module is a file containing python definitions and statements\n",
    "# a function is a piece of code that perfoms some logic\n",
    "\n",
    "import math\n",
    "# check the fucntions that are available in the built in module\n",
    "dir(math)"
   ]
  },
  {
   "cell_type": "markdown",
   "metadata": {},
   "source": [
    "### Using Pip"
   ]
  },
  {
   "cell_type": "code",
   "execution_count": 79,
   "metadata": {},
   "outputs": [],
   "source": [
    "# list outdated modules    pip list --outdated\n",
    "# upgrade module           pip install <package name> --upgrade\n",
    "# upgrade pip              python -m pip install -U pip\n",
    "# you can get help about everything by typing help() or specific module by entering the module name in the brackets, but \n",
    "# you must import the module first"
   ]
  },
  {
   "cell_type": "code",
   "execution_count": 80,
   "metadata": {},
   "outputs": [
    {
     "name": "stdout",
     "output_type": "stream",
     "text": [
      "Help on built-in module math:\n",
      "\n",
      "NAME\n",
      "    math\n",
      "\n",
      "DESCRIPTION\n",
      "    This module provides access to the mathematical functions\n",
      "    defined by the C standard.\n",
      "\n",
      "FUNCTIONS\n",
      "    acos(x, /)\n",
      "        Return the arc cosine (measured in radians) of x.\n",
      "    \n",
      "    acosh(x, /)\n",
      "        Return the inverse hyperbolic cosine of x.\n",
      "    \n",
      "    asin(x, /)\n",
      "        Return the arc sine (measured in radians) of x.\n",
      "    \n",
      "    asinh(x, /)\n",
      "        Return the inverse hyperbolic sine of x.\n",
      "    \n",
      "    atan(x, /)\n",
      "        Return the arc tangent (measured in radians) of x.\n",
      "    \n",
      "    atan2(y, x, /)\n",
      "        Return the arc tangent (measured in radians) of y/x.\n",
      "        \n",
      "        Unlike atan(y/x), the signs of both x and y are considered.\n",
      "    \n",
      "    atanh(x, /)\n",
      "        Return the inverse hyperbolic tangent of x.\n",
      "    \n",
      "    ceil(x, /)\n",
      "        Return the ceiling of x as an Integral.\n",
      "        \n",
      "        This is the smallest integer >= x.\n",
      "    \n",
      "    copysign(x, y, /)\n",
      "        Return a float with the magnitude (absolute value) of x but the sign of y.\n",
      "        \n",
      "        On platforms that support signed zeros, copysign(1.0, -0.0)\n",
      "        returns -1.0.\n",
      "    \n",
      "    cos(x, /)\n",
      "        Return the cosine of x (measured in radians).\n",
      "    \n",
      "    cosh(x, /)\n",
      "        Return the hyperbolic cosine of x.\n",
      "    \n",
      "    degrees(x, /)\n",
      "        Convert angle x from radians to degrees.\n",
      "    \n",
      "    erf(x, /)\n",
      "        Error function at x.\n",
      "    \n",
      "    erfc(x, /)\n",
      "        Complementary error function at x.\n",
      "    \n",
      "    exp(x, /)\n",
      "        Return e raised to the power of x.\n",
      "    \n",
      "    expm1(x, /)\n",
      "        Return exp(x)-1.\n",
      "        \n",
      "        This function avoids the loss of precision involved in the direct evaluation of exp(x)-1 for small x.\n",
      "    \n",
      "    fabs(x, /)\n",
      "        Return the absolute value of the float x.\n",
      "    \n",
      "    factorial(x, /)\n",
      "        Find x!.\n",
      "        \n",
      "        Raise a ValueError if x is negative or non-integral.\n",
      "    \n",
      "    floor(x, /)\n",
      "        Return the floor of x as an Integral.\n",
      "        \n",
      "        This is the largest integer <= x.\n",
      "    \n",
      "    fmod(x, y, /)\n",
      "        Return fmod(x, y), according to platform C.\n",
      "        \n",
      "        x % y may differ.\n",
      "    \n",
      "    frexp(x, /)\n",
      "        Return the mantissa and exponent of x, as pair (m, e).\n",
      "        \n",
      "        m is a float and e is an int, such that x = m * 2.**e.\n",
      "        If x is 0, m and e are both 0.  Else 0.5 <= abs(m) < 1.0.\n",
      "    \n",
      "    fsum(seq, /)\n",
      "        Return an accurate floating point sum of values in the iterable seq.\n",
      "        \n",
      "        Assumes IEEE-754 floating point arithmetic.\n",
      "    \n",
      "    gamma(x, /)\n",
      "        Gamma function at x.\n",
      "    \n",
      "    gcd(x, y, /)\n",
      "        greatest common divisor of x and y\n",
      "    \n",
      "    hypot(x, y, /)\n",
      "        Return the Euclidean distance, sqrt(x*x + y*y).\n",
      "    \n",
      "    isclose(a, b, *, rel_tol=1e-09, abs_tol=0.0)\n",
      "        Determine whether two floating point numbers are close in value.\n",
      "        \n",
      "          rel_tol\n",
      "            maximum difference for being considered \"close\", relative to the\n",
      "            magnitude of the input values\n",
      "          abs_tol\n",
      "            maximum difference for being considered \"close\", regardless of the\n",
      "            magnitude of the input values\n",
      "        \n",
      "        Return True if a is close in value to b, and False otherwise.\n",
      "        \n",
      "        For the values to be considered close, the difference between them\n",
      "        must be smaller than at least one of the tolerances.\n",
      "        \n",
      "        -inf, inf and NaN behave similarly to the IEEE 754 Standard.  That\n",
      "        is, NaN is not close to anything, even itself.  inf and -inf are\n",
      "        only close to themselves.\n",
      "    \n",
      "    isfinite(x, /)\n",
      "        Return True if x is neither an infinity nor a NaN, and False otherwise.\n",
      "    \n",
      "    isinf(x, /)\n",
      "        Return True if x is a positive or negative infinity, and False otherwise.\n",
      "    \n",
      "    isnan(x, /)\n",
      "        Return True if x is a NaN (not a number), and False otherwise.\n",
      "    \n",
      "    ldexp(x, i, /)\n",
      "        Return x * (2**i).\n",
      "        \n",
      "        This is essentially the inverse of frexp().\n",
      "    \n",
      "    lgamma(x, /)\n",
      "        Natural logarithm of absolute value of Gamma function at x.\n",
      "    \n",
      "    log(...)\n",
      "        log(x, [base=math.e])\n",
      "        Return the logarithm of x to the given base.\n",
      "        \n",
      "        If the base not specified, returns the natural logarithm (base e) of x.\n",
      "    \n",
      "    log10(x, /)\n",
      "        Return the base 10 logarithm of x.\n",
      "    \n",
      "    log1p(x, /)\n",
      "        Return the natural logarithm of 1+x (base e).\n",
      "        \n",
      "        The result is computed in a way which is accurate for x near zero.\n",
      "    \n",
      "    log2(x, /)\n",
      "        Return the base 2 logarithm of x.\n",
      "    \n",
      "    modf(x, /)\n",
      "        Return the fractional and integer parts of x.\n",
      "        \n",
      "        Both results carry the sign of x and are floats.\n",
      "    \n",
      "    pow(x, y, /)\n",
      "        Return x**y (x to the power of y).\n",
      "    \n",
      "    radians(x, /)\n",
      "        Convert angle x from degrees to radians.\n",
      "    \n",
      "    remainder(x, y, /)\n",
      "        Difference between x and the closest integer multiple of y.\n",
      "        \n",
      "        Return x - n*y where n*y is the closest integer multiple of y.\n",
      "        In the case where x is exactly halfway between two multiples of\n",
      "        y, the nearest even value of n is used. The result is always exact.\n",
      "    \n",
      "    sin(x, /)\n",
      "        Return the sine of x (measured in radians).\n",
      "    \n",
      "    sinh(x, /)\n",
      "        Return the hyperbolic sine of x.\n",
      "    \n",
      "    sqrt(x, /)\n",
      "        Return the square root of x.\n",
      "    \n",
      "    tan(x, /)\n",
      "        Return the tangent of x (measured in radians).\n",
      "    \n",
      "    tanh(x, /)\n",
      "        Return the hyperbolic tangent of x.\n",
      "    \n",
      "    trunc(x, /)\n",
      "        Truncates the Real x to the nearest Integral toward 0.\n",
      "        \n",
      "        Uses the __trunc__ magic method.\n",
      "\n",
      "DATA\n",
      "    e = 2.718281828459045\n",
      "    inf = inf\n",
      "    nan = nan\n",
      "    pi = 3.141592653589793\n",
      "    tau = 6.283185307179586\n",
      "\n",
      "FILE\n",
      "    (built-in)\n",
      "\n",
      "\n"
     ]
    }
   ],
   "source": [
    "help(math)"
   ]
  },
  {
   "cell_type": "code",
   "execution_count": 81,
   "metadata": {},
   "outputs": [
    {
     "name": "stdout",
     "output_type": "stream",
     "text": [
      "Help on built-in function cos in module math:\n",
      "\n",
      "cos(x, /)\n",
      "    Return the cosine of x (measured in radians).\n",
      "\n"
     ]
    }
   ],
   "source": [
    "# or the specific function in the module\n",
    "help(math.cos)"
   ]
  },
  {
   "cell_type": "markdown",
   "metadata": {},
   "source": [
    "### DocStrings"
   ]
  },
  {
   "cell_type": "code",
   "execution_count": 85,
   "metadata": {},
   "outputs": [],
   "source": [
    "# docstring are used to write documentation for classes, methods, functions and modules\n",
    "\n",
    "def func():\n",
    "    '''This function returns nothing'''\n",
    "    pass"
   ]
  },
  {
   "cell_type": "code",
   "execution_count": 86,
   "metadata": {},
   "outputs": [
    {
     "name": "stdout",
     "output_type": "stream",
     "text": [
      "This fucntion returns nothing\n"
     ]
    }
   ],
   "source": [
    "print(func.__doc__)"
   ]
  },
  {
   "cell_type": "markdown",
   "metadata": {},
   "source": [
    "### DateTime "
   ]
  },
  {
   "cell_type": "code",
   "execution_count": 107,
   "metadata": {},
   "outputs": [
    {
     "name": "stdout",
     "output_type": "stream",
     "text": [
      "The year is 2020 \n",
      "The hour is 21\n",
      "The day of the month is 15\n",
      "The hour is 32\n"
     ]
    }
   ],
   "source": [
    "from datetime import datetime\n",
    "from dateutil import tz\n",
    "print('The year is {} '.format(datetime.now().year))\n",
    "print('The hour is {}'.format(datetime.now().hour))\n",
    "print('The day of the month is {}'.format(datetime.now().day))\n",
    "print('The hour is {}'.format(datetime.now().minute))\n",
    "\n",
    "\n",
    "# and so on for other parts of the time"
   ]
  },
  {
   "cell_type": "code",
   "execution_count": null,
   "metadata": {},
   "outputs": [],
   "source": []
  }
 ],
 "metadata": {
  "kernelspec": {
   "display_name": "Python 3",
   "language": "python",
   "name": "python3"
  },
  "language_info": {
   "codemirror_mode": {
    "name": "ipython",
    "version": 3
   },
   "file_extension": ".py",
   "mimetype": "text/x-python",
   "name": "python",
   "nbconvert_exporter": "python",
   "pygments_lexer": "ipython3",
   "version": "3.7.4"
  }
 },
 "nbformat": 4,
 "nbformat_minor": 2
}
