{
 "cells": [
  {
   "cell_type": "markdown",
   "metadata": {},
   "source": [
    "### Working with Json Data"
   ]
  },
  {
   "cell_type": "code",
   "execution_count": 1,
   "metadata": {},
   "outputs": [],
   "source": [
    "import json"
   ]
  },
  {
   "cell_type": "code",
   "execution_count": 2,
   "metadata": {},
   "outputs": [
    {
     "data": {
      "text/plain": [
       "{'greet': 'Jambo Africa, Hello Kenya',\n",
       " 'countries': ['Kenya', 'Rwanda', 'Togo']}"
      ]
     },
     "execution_count": 2,
     "metadata": {},
     "output_type": "execute_result"
    }
   ],
   "source": [
    "# great own dataset\n",
    "data = {'greet' : 'Jambo Africa, Hello Kenya', 'countries' : ['Kenya', 'Rwanda', 'Togo']}\n",
    "data"
   ]
  },
  {
   "cell_type": "code",
   "execution_count": 3,
   "metadata": {},
   "outputs": [],
   "source": [
    "# store as json\n",
    "with open('jason_data', 'w') as f:\n",
    "    json.dump(data, f)"
   ]
  },
  {
   "cell_type": "code",
   "execution_count": 6,
   "metadata": {},
   "outputs": [
    {
     "name": "stdout",
     "output_type": "stream",
     "text": [
      "{'greet': 'Jambo Africa, Hello Kenya', 'countries': ['Kenya', 'Rwanda', 'Togo']}\n"
     ]
    }
   ],
   "source": [
    "# retrieve the data as json\n",
    "\n",
    "with open('jason_data', 'r') as f:\n",
    "    data_read =  json.load(f)\n",
    "    print(data_read)"
   ]
  },
  {
   "cell_type": "code",
   "execution_count": 11,
   "metadata": {},
   "outputs": [
    {
     "name": "stdout",
     "output_type": "stream",
     "text": [
      "{\"greet\": \"Jambo Africa, Hello Kenya\", \"countries\": [\"Kenya\", \"Rwanda\", \"Togo\"]}\n"
     ]
    }
   ],
   "source": [
    "# well formatting json data, here the formatting isnt good\n",
    "print(json.dumps(data_read))"
   ]
  },
  {
   "cell_type": "code",
   "execution_count": 12,
   "metadata": {},
   "outputs": [
    {
     "name": "stdout",
     "output_type": "stream",
     "text": [
      "{\n",
      "    \"greet\": \"Jambo Africa, Hello Kenya\",\n",
      "    \"countries\": [\n",
      "        \"Kenya\",\n",
      "        \"Rwanda\",\n",
      "        \"Togo\"\n",
      "    ]\n",
      "}\n"
     ]
    }
   ],
   "source": [
    "# here the formatting is good, isnt it\n",
    "print(json.dumps(data_read, indent=4))"
   ]
  },
  {
   "cell_type": "code",
   "execution_count": 13,
   "metadata": {},
   "outputs": [
    {
     "name": "stdout",
     "output_type": "stream",
     "text": [
      "{\n",
      "    \"countries\": [\n",
      "        \"Kenya\",\n",
      "        \"Rwanda\",\n",
      "        \"Togo\"\n",
      "    ],\n",
      "    \"greet\": \"Jambo Africa, Hello Kenya\"\n",
      "}\n"
     ]
    }
   ],
   "source": [
    "# sorting the keys\n",
    "print(json.dumps(data_read, indent=4, sort_keys=True))"
   ]
  },
  {
   "cell_type": "code",
   "execution_count": 14,
   "metadata": {},
   "outputs": [
    {
     "name": "stdout",
     "output_type": "stream",
     "text": [
      "{\n",
      "    \"greet\":\"Jambo Africa, Hello Kenya\",\n",
      "    \"countries\":[\n",
      "        \"Kenya\",\n",
      "        \"Rwanda\",\n",
      "        \"Togo\"\n",
      "    ]\n",
      "}\n"
     ]
    }
   ],
   "source": [
    "# get rid of white spaces\n",
    "print(json.dumps(data_read, indent=4, separators=(',', ':')))"
   ]
  },
  {
   "cell_type": "code",
   "execution_count": null,
   "metadata": {},
   "outputs": [],
   "source": []
  }
 ],
 "metadata": {
  "kernelspec": {
   "display_name": "Python 3",
   "language": "python",
   "name": "python3"
  },
  "language_info": {
   "codemirror_mode": {
    "name": "ipython",
    "version": 3
   },
   "file_extension": ".py",
   "mimetype": "text/x-python",
   "name": "python",
   "nbconvert_exporter": "python",
   "pygments_lexer": "ipython3",
   "version": "3.7.4"
  }
 },
 "nbformat": 4,
 "nbformat_minor": 2
}
