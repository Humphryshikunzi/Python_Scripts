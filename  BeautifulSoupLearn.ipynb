{
 "cells": [
  {
   "cell_type": "code",
   "execution_count": 3,
   "metadata": {},
   "outputs": [],
   "source": [
    "import urllib.request, urllib.error, urllib.parse\n",
    "from bs4 import BeautifulSoup\n",
    "import ssl"
   ]
  },
  {
   "cell_type": "code",
   "execution_count": 4,
   "metadata": {},
   "outputs": [],
   "source": [
    "# ignore ssl certificate errors\n",
    "ctx = ssl.create_default_context()\n",
    "ctx.check_hostname = False\n",
    "ctx.verify_mode = ssl.CERT_NONE"
   ]
  },
  {
   "cell_type": "code",
   "execution_count": 6,
   "metadata": {},
   "outputs": [
    {
     "name": "stdout",
     "output_type": "stream",
     "text": [
      "https://www.safaricom.co.ke/\n",
      "/personal/voice\n",
      "/personal/data\n",
      "/personal/m-pesa\n",
      "/personal/get-more\n",
      "https://www.safaricom.co.ke/home/home-fibre.php\n",
      "javascript:void(0)\n",
      "/personal/voice\n",
      "/personal/data\n",
      "/personal/m-pesa\n",
      "/personal/get-more\n",
      "https://www.safaricom.co.ke/home/home-fibre.php\n",
      "javascript:void(0)\n",
      "/business/sme\n",
      "/business/corporate\n",
      "/business/wholesale\n",
      "/business/digifarm\n",
      "https://www.masoko.com\n",
      "javascript:void(0)\n",
      "/about/about-safaricom\n",
      "/about/transforming-lives\n",
      "/about/media-center\n",
      "/about/innovation\n",
      "javascript:void(0)\n",
      "/investor-relation/financials\n",
      "/investor-relation/stocks\n",
      "/investor-relation/meetings\n",
      "/faqs\n",
      "javascript:void(0)\n",
      "/stori-ibambes/getting-started\n",
      "/stori-ibambes/terms-conditions\n",
      "https://www.facebook.com/messages/t/SafaricomPLC\n",
      "#hub_modal_form\n",
      "https://www.facebook.com/SafaricomPLC/\n",
      "https://twitter.com/SafaricomPLC\n",
      "https://www.linkedin.com/company/safaricom/?originalSubdomain=ke\n",
      "https://www.youtube.com/user/SafaricomOfficial\n",
      "https://www.safaricom.co.ke/personal\n",
      "https://www.safaricom.co.ke/business\n",
      "https://www.masoko.com\n",
      "https://www.safaricom.co.ke/about\n",
      "https://www.safaricom.co.ke/investor-relation\n",
      "https://www.safaricom.co.ke/faqs\n",
      "javascript:void(0)\n",
      "javascript:void(0)\n",
      "javascript:void(0)\n",
      "javascript:void(0)\n",
      "https://www.safaricom.co.ke/\n",
      "/personal/voice\n",
      "/personal/data\n",
      "/personal/m-pesa\n",
      "/personal/get-more\n",
      "https://www.safaricom.co.ke/home/home-fibre.php\n",
      "https://www.safaricom.co.ke/about/about-safaricom/who-we-are/our-story\n",
      "personal/voice\n",
      "https://www.safaricom.co.ke/volte/\n",
      "personal/data\n",
      "#card894\n",
      "https://www.facebook.com/messages/t/SafaricomPLC\n",
      "#hub_modal_form\n",
      "https://www.safaricom.co.ke/investor-relation\n",
      "/personal/voice\n",
      "/personal/data\n",
      "/personal/m-pesa\n",
      "/personal/get-more\n",
      "/business/sme/\n",
      "/business/corporate/\n",
      "/business/government/ecitizen/ecitizen\n",
      "/business/corporate/m-pesa-payment-services/lipa-na-m-pesa-paybill\n",
      "/about/about-safaricom/who-we-are/senior-management\n",
      "/about/about-safaricom/career/why-safaricom\n",
      "/safaricom-service-charter\n",
      "/about/transforming-lives/the-foundations/safaricom-foundation\n",
      "/investor-relation/stocks/analysts/analyst-coverage\n",
      "/investor-relation/financials/reports/investor-calendar\n",
      "//investor-relation/stocks/share-price/share-price-performance\n",
      "/investor-relation/financials/reports/annual-reports\n",
      "/index.php/faqs/faq/44\n",
      "/index.php/faqs/faq/286\n",
      "/index.php/faqs/faq/273\n",
      "/index.php/faqs/faq/237\n",
      "/about/media-center/publications/terms-and-conditions\n",
      "https://www.safaricom.co.ke/dataprivacystatement\n",
      "https://twitter.com/SafaricomPLC\n",
      "https://www.facebook.com/SafaricomPLC/\n",
      "#\n",
      "javascript:void(0);\n"
     ]
    }
   ],
   "source": [
    "uri = \"https://www.safaricom.co.ke/\"\n",
    "html = urllib.request.urlopen(uri, context=ctx).read()\n",
    "soup = BeautifulSoup(html, 'html.parser')\n",
    "\n",
    "# get all links (tags)\n",
    "tags = soup('a')\n",
    "for tag in tags:\n",
    "    print(tag.get('href', None))"
   ]
  },
  {
   "cell_type": "code",
   "execution_count": null,
   "metadata": {},
   "outputs": [],
   "source": []
  }
 ],
 "metadata": {
  "kernelspec": {
   "display_name": "Python 3",
   "language": "python",
   "name": "python3"
  },
  "language_info": {
   "codemirror_mode": {
    "name": "ipython",
    "version": 3
   },
   "file_extension": ".py",
   "mimetype": "text/x-python",
   "name": "python",
   "nbconvert_exporter": "python",
   "pygments_lexer": "ipython3",
   "version": "3.7.4"
  }
 },
 "nbformat": 4,
 "nbformat_minor": 2
}
