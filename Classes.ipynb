{
 "cells": [
  {
   "cell_type": "code",
   "execution_count": 21,
   "metadata": {},
   "outputs": [
    {
     "name": "stdout",
     "output_type": "stream",
     "text": [
      "An instance of this class has been created \n",
      "------------------------------------------\n",
      "The name of device 1 is Rasp\n",
      "The type of device 1 is Microprossesor\n",
      "The cost for device 1 is 5500\n",
      "An instance of this class has been created \n",
      "------------------------------------------\n",
      "The name of device is Sigfox\n",
      "The type of device is Microcontroller\n",
      "The cost for device is 5000\n",
      "The device count is 2\n"
     ]
    }
   ],
   "source": [
    "class IoT_Devices ():\n",
    "    # underscore before count makes it private\n",
    "    __count = 0 \n",
    "    def  __init__ (self, name, device_type, cost):\n",
    "        print('An instance of this class has been created ')\n",
    "        print('------------------------------------------')\n",
    "        self.name         = name\n",
    "        self.device_type = device_type\n",
    "        self.cost        = cost\n",
    "        IoT_Devices.__count +=1\n",
    "        \n",
    "    def print_device_infor(self):\n",
    "        print('The name of device is {}'.format(self.name))\n",
    "        print('The type of device is {}'.format(self.device_type))\n",
    "        print('The cost for device is {}'.format(self.cost))\n",
    "        print('The device count is {}'.format(IoT_Devices.__count))\n",
    "    \n",
    "    def get_count():\n",
    "        return IoT_Devices.__count\n",
    "        \n",
    "        \n",
    "# create an instance of the IoT Device\n",
    "\n",
    "IoT_Device_1 = IoT_Devices(\"Rasp\", \"Microprossesor\", 5500)\n",
    "print('The name of device 1 is {}'.format(IoT_Device_1.name))\n",
    "print('The type of device 1 is {}'.format(IoT_Device_1.device_type))\n",
    "print('The cost for device 1 is {}'.format(IoT_Device_1.cost))\n",
    "    \n",
    "IoT_Device_2 = IoT_Devices(\"Sigfox\", \"Microcontroller\", 5000)\n",
    "IoT_Device_2.print_device_infor()\n",
    "\n",
    "    \n",
    "    "
   ]
  },
  {
   "cell_type": "code",
   "execution_count": null,
   "metadata": {},
   "outputs": [],
   "source": []
  }
 ],
 "metadata": {
  "kernelspec": {
   "display_name": "Python 3",
   "language": "python",
   "name": "python3"
  },
  "language_info": {
   "codemirror_mode": {
    "name": "ipython",
    "version": 3
   },
   "file_extension": ".py",
   "mimetype": "text/x-python",
   "name": "python",
   "nbconvert_exporter": "python",
   "pygments_lexer": "ipython3",
   "version": "3.7.4"
  }
 },
 "nbformat": 4,
 "nbformat_minor": 2
}
